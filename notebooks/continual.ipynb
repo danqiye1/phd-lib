{
 "cells": [
  {
   "cell_type": "markdown",
   "metadata": {},
   "source": [
    "# Continual Learning Benchmarks\n",
    "\n",
    "This notebook is a created for my qualifying exam for PhD at NUS School of Computing. ToDo: More description."
   ]
  },
  {
   "cell_type": "markdown",
   "metadata": {},
   "source": [
    "## Catastrophic Forgetting\n",
    "\n",
    "The major obstacle to achieving continual learning today is the phenomenon of Catastrophic Forgetting [cite]"
   ]
  },
  {
   "cell_type": "markdown",
   "metadata": {},
   "source": [
    "## Dataset and Benchmarks"
   ]
  },
  {
   "cell_type": "code",
   "execution_count": 1,
   "metadata": {},
   "outputs": [
    {
     "name": "stdout",
     "output_type": "stream",
     "text": [
      "Dataset SplitMNIST\n",
      "\tNumber of tasks: 3\n",
      "\tCurrent task: 0\n",
      "\tNumber of datapoints: 36017\n",
      "\tSplit: Train\n",
      "Dataset SplitMNIST\n",
      "\tNumber of tasks: 3\n",
      "\tCurrent task: 0\n",
      "\tNumber of datapoints: 6031\n",
      "\tSplit: Test\n"
     ]
    }
   ],
   "source": [
    "from continual.datasets import SplitMNIST\n",
    "from torchvision.transforms import Compose, ToTensor, Pad, Normalize\n",
    "\n",
    "transforms = Compose([\n",
    "    ToTensor(),\n",
    "    Pad(2),\n",
    "    Normalize(mean=(0.1307,), std=(0.3081,))\n",
    "])\n",
    "trainset = SplitMNIST(\"../\", download=True, transform=transforms)\n",
    "testset = SplitMNIST(\"../\", train=False, download=True, transform=transforms)\n",
    "print(trainset)\n",
    "print(testset)"
   ]
  },
  {
   "cell_type": "markdown",
   "metadata": {},
   "source": [
    "## Naive Strategy"
   ]
  },
  {
   "cell_type": "code",
   "execution_count": null,
   "metadata": {},
   "outputs": [],
   "source": [
    "# Naive Strategy"
   ]
  },
  {
   "cell_type": "markdown",
   "metadata": {},
   "source": [
    "## Rehearsal"
   ]
  },
  {
   "cell_type": "code",
   "execution_count": null,
   "metadata": {},
   "outputs": [],
   "source": [
    "# Rehearsal Strategy"
   ]
  },
  {
   "cell_type": "markdown",
   "metadata": {},
   "source": [
    "## Pseudo-Rehearsal"
   ]
  },
  {
   "cell_type": "code",
   "execution_count": null,
   "metadata": {},
   "outputs": [],
   "source": [
    "# Pseudo-rehearsal Strategy"
   ]
  },
  {
   "cell_type": "markdown",
   "metadata": {},
   "source": [
    "## Elastic Weight Consolidation"
   ]
  },
  {
   "cell_type": "markdown",
   "metadata": {},
   "source": [
    "## Generative Replay"
   ]
  },
  {
   "cell_type": "markdown",
   "metadata": {},
   "source": [
    "## Multi-head Incremental Models"
   ]
  },
  {
   "cell_type": "markdown",
   "metadata": {},
   "source": [
    "## Recurrent Neural Networks"
   ]
  },
  {
   "cell_type": "markdown",
   "metadata": {},
   "source": [
    "## Discussion"
   ]
  },
  {
   "cell_type": "markdown",
   "metadata": {},
   "source": [
    "## Catastrophic Forgetting in Prescribed Error Sensitivity"
   ]
  }
 ],
 "metadata": {
  "kernelspec": {
   "display_name": "Python 3 (ipykernel)",
   "language": "python",
   "name": "python3"
  },
  "language_info": {
   "codemirror_mode": {
    "name": "ipython",
    "version": 3
   },
   "file_extension": ".py",
   "mimetype": "text/x-python",
   "name": "python",
   "nbconvert_exporter": "python",
   "pygments_lexer": "ipython3",
   "version": "3.10.4"
  },
  "vscode": {
   "interpreter": {
    "hash": "3ce6a09607c1384388fce8eb3d5849b0a6ce7466a6defafc438b8b2fd16529f4"
   }
  }
 },
 "nbformat": 4,
 "nbformat_minor": 4
}
